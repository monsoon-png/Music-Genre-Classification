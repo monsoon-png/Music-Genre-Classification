{
 "cells": [
  {
   "metadata": {},
   "cell_type": "markdown",
   "source": [
    "### Step 3: Model Training and Testing\n",
    "This notbeook is used for training and testing the dataset using several algorithms such as softmax regression,KNN, SVM Random Forest,and MLP"
   ],
   "id": "eaf043dbeda026bd"
  },
  {
   "metadata": {},
   "cell_type": "markdown",
   "source": "Loading the data as a pandas dataframe",
   "id": "e53bb634c86b8c1b"
  },
  {
   "cell_type": "code",
   "id": "initial_id",
   "metadata": {
    "collapsed": true,
    "ExecuteTime": {
     "end_time": "2024-12-02T22:33:22.291386Z",
     "start_time": "2024-12-02T22:33:22.230733Z"
    }
   },
   "source": [
    "import pandas as pd\n",
    "import numpy as np\n",
    "import matplotlib.pyplot as plt\n",
    "df = pd.read_csv('extracted_features.csv') "
   ],
   "outputs": [],
   "execution_count": 31
  },
  {
   "metadata": {
    "ExecuteTime": {
     "end_time": "2024-12-02T22:33:42.354784Z",
     "start_time": "2024-12-02T22:33:42.332738Z"
    }
   },
   "cell_type": "code",
   "source": "df.head(5)",
   "id": "c36afb9498e58407",
   "outputs": [
    {
     "data": {
      "text/plain": [
       "       file_name  mfcc_mean_0  mfcc_mean_1  mfcc_mean_2  mfcc_mean_3  \\\n",
       "0  pop.00027.wav   -75.463326    83.299210    10.706215    14.456715   \n",
       "1  pop.00033.wav   -69.112465    73.778976   -12.471774     9.525619   \n",
       "2  pop.00032.wav  -113.258118    41.564148    21.545959    11.081444   \n",
       "3  pop.00026.wav   -73.421997    97.422211    16.888651    -0.552833   \n",
       "4  pop.00030.wav   -18.320768    72.323654    -4.790904    -0.324024   \n",
       "\n",
       "   mfcc_mean_4  mfcc_mean_5  mfcc_mean_6  mfcc_mean_7  mfcc_mean_8  ...  \\\n",
       "0    14.260171     7.435577     5.284629    -0.401441     5.719382  ...   \n",
       "1    -0.051146    12.708080     3.162070    -0.102521     2.513747  ...   \n",
       "2    17.457850     0.624119     3.016761     0.067581     3.470428  ...   \n",
       "3     7.178626     4.888375     0.737000    -5.553925     0.964399  ...   \n",
       "4     1.718131    -0.866143    -1.290872    -0.335301     0.625273  ...   \n",
       "\n",
       "   chroma_3  chroma_4  chroma_5  chroma_6  chroma_7  chroma_8  chroma_9  \\\n",
       "0  0.325283  0.341221  0.313170  0.443056  0.400414  0.339016  0.419027   \n",
       "1  0.337867  0.390890  0.429020  0.447938  0.532196  0.404587  0.419261   \n",
       "2  0.478151  0.477023  0.344526  0.388563  0.403329  0.491917  0.383729   \n",
       "3  0.246380  0.323797  0.267226  0.250600  0.542449  0.391026  0.345556   \n",
       "4  0.371932  0.260325  0.373052  0.257145  0.290357  0.469181  0.320809   \n",
       "\n",
       "   chroma_10  chroma_11  label  \n",
       "0   0.372709   0.422149    pop  \n",
       "1   0.354290   0.476581    pop  \n",
       "2   0.390939   0.451360    pop  \n",
       "3   0.244526   0.342496    pop  \n",
       "4   0.440710   0.283835    pop  \n",
       "\n",
       "[5 rows x 52 columns]"
      ],
      "text/html": [
       "<div>\n",
       "<style scoped>\n",
       "    .dataframe tbody tr th:only-of-type {\n",
       "        vertical-align: middle;\n",
       "    }\n",
       "\n",
       "    .dataframe tbody tr th {\n",
       "        vertical-align: top;\n",
       "    }\n",
       "\n",
       "    .dataframe thead th {\n",
       "        text-align: right;\n",
       "    }\n",
       "</style>\n",
       "<table border=\"1\" class=\"dataframe\">\n",
       "  <thead>\n",
       "    <tr style=\"text-align: right;\">\n",
       "      <th></th>\n",
       "      <th>file_name</th>\n",
       "      <th>mfcc_mean_0</th>\n",
       "      <th>mfcc_mean_1</th>\n",
       "      <th>mfcc_mean_2</th>\n",
       "      <th>mfcc_mean_3</th>\n",
       "      <th>mfcc_mean_4</th>\n",
       "      <th>mfcc_mean_5</th>\n",
       "      <th>mfcc_mean_6</th>\n",
       "      <th>mfcc_mean_7</th>\n",
       "      <th>mfcc_mean_8</th>\n",
       "      <th>...</th>\n",
       "      <th>chroma_3</th>\n",
       "      <th>chroma_4</th>\n",
       "      <th>chroma_5</th>\n",
       "      <th>chroma_6</th>\n",
       "      <th>chroma_7</th>\n",
       "      <th>chroma_8</th>\n",
       "      <th>chroma_9</th>\n",
       "      <th>chroma_10</th>\n",
       "      <th>chroma_11</th>\n",
       "      <th>label</th>\n",
       "    </tr>\n",
       "  </thead>\n",
       "  <tbody>\n",
       "    <tr>\n",
       "      <th>0</th>\n",
       "      <td>pop.00027.wav</td>\n",
       "      <td>-75.463326</td>\n",
       "      <td>83.299210</td>\n",
       "      <td>10.706215</td>\n",
       "      <td>14.456715</td>\n",
       "      <td>14.260171</td>\n",
       "      <td>7.435577</td>\n",
       "      <td>5.284629</td>\n",
       "      <td>-0.401441</td>\n",
       "      <td>5.719382</td>\n",
       "      <td>...</td>\n",
       "      <td>0.325283</td>\n",
       "      <td>0.341221</td>\n",
       "      <td>0.313170</td>\n",
       "      <td>0.443056</td>\n",
       "      <td>0.400414</td>\n",
       "      <td>0.339016</td>\n",
       "      <td>0.419027</td>\n",
       "      <td>0.372709</td>\n",
       "      <td>0.422149</td>\n",
       "      <td>pop</td>\n",
       "    </tr>\n",
       "    <tr>\n",
       "      <th>1</th>\n",
       "      <td>pop.00033.wav</td>\n",
       "      <td>-69.112465</td>\n",
       "      <td>73.778976</td>\n",
       "      <td>-12.471774</td>\n",
       "      <td>9.525619</td>\n",
       "      <td>-0.051146</td>\n",
       "      <td>12.708080</td>\n",
       "      <td>3.162070</td>\n",
       "      <td>-0.102521</td>\n",
       "      <td>2.513747</td>\n",
       "      <td>...</td>\n",
       "      <td>0.337867</td>\n",
       "      <td>0.390890</td>\n",
       "      <td>0.429020</td>\n",
       "      <td>0.447938</td>\n",
       "      <td>0.532196</td>\n",
       "      <td>0.404587</td>\n",
       "      <td>0.419261</td>\n",
       "      <td>0.354290</td>\n",
       "      <td>0.476581</td>\n",
       "      <td>pop</td>\n",
       "    </tr>\n",
       "    <tr>\n",
       "      <th>2</th>\n",
       "      <td>pop.00032.wav</td>\n",
       "      <td>-113.258118</td>\n",
       "      <td>41.564148</td>\n",
       "      <td>21.545959</td>\n",
       "      <td>11.081444</td>\n",
       "      <td>17.457850</td>\n",
       "      <td>0.624119</td>\n",
       "      <td>3.016761</td>\n",
       "      <td>0.067581</td>\n",
       "      <td>3.470428</td>\n",
       "      <td>...</td>\n",
       "      <td>0.478151</td>\n",
       "      <td>0.477023</td>\n",
       "      <td>0.344526</td>\n",
       "      <td>0.388563</td>\n",
       "      <td>0.403329</td>\n",
       "      <td>0.491917</td>\n",
       "      <td>0.383729</td>\n",
       "      <td>0.390939</td>\n",
       "      <td>0.451360</td>\n",
       "      <td>pop</td>\n",
       "    </tr>\n",
       "    <tr>\n",
       "      <th>3</th>\n",
       "      <td>pop.00026.wav</td>\n",
       "      <td>-73.421997</td>\n",
       "      <td>97.422211</td>\n",
       "      <td>16.888651</td>\n",
       "      <td>-0.552833</td>\n",
       "      <td>7.178626</td>\n",
       "      <td>4.888375</td>\n",
       "      <td>0.737000</td>\n",
       "      <td>-5.553925</td>\n",
       "      <td>0.964399</td>\n",
       "      <td>...</td>\n",
       "      <td>0.246380</td>\n",
       "      <td>0.323797</td>\n",
       "      <td>0.267226</td>\n",
       "      <td>0.250600</td>\n",
       "      <td>0.542449</td>\n",
       "      <td>0.391026</td>\n",
       "      <td>0.345556</td>\n",
       "      <td>0.244526</td>\n",
       "      <td>0.342496</td>\n",
       "      <td>pop</td>\n",
       "    </tr>\n",
       "    <tr>\n",
       "      <th>4</th>\n",
       "      <td>pop.00030.wav</td>\n",
       "      <td>-18.320768</td>\n",
       "      <td>72.323654</td>\n",
       "      <td>-4.790904</td>\n",
       "      <td>-0.324024</td>\n",
       "      <td>1.718131</td>\n",
       "      <td>-0.866143</td>\n",
       "      <td>-1.290872</td>\n",
       "      <td>-0.335301</td>\n",
       "      <td>0.625273</td>\n",
       "      <td>...</td>\n",
       "      <td>0.371932</td>\n",
       "      <td>0.260325</td>\n",
       "      <td>0.373052</td>\n",
       "      <td>0.257145</td>\n",
       "      <td>0.290357</td>\n",
       "      <td>0.469181</td>\n",
       "      <td>0.320809</td>\n",
       "      <td>0.440710</td>\n",
       "      <td>0.283835</td>\n",
       "      <td>pop</td>\n",
       "    </tr>\n",
       "  </tbody>\n",
       "</table>\n",
       "<p>5 rows × 52 columns</p>\n",
       "</div>"
      ]
     },
     "execution_count": 32,
     "metadata": {},
     "output_type": "execute_result"
    }
   ],
   "execution_count": 32
  },
  {
   "metadata": {},
   "cell_type": "markdown",
   "source": "Scaling the data and conducitng a 70:30 split",
   "id": "c83994e7791a76c5"
  },
  {
   "metadata": {
    "ExecuteTime": {
     "end_time": "2024-12-02T22:35:27.149949Z",
     "start_time": "2024-12-02T22:35:27.107844Z"
    }
   },
   "cell_type": "code",
   "source": [
    "from sklearn.model_selection import train_test_split\n",
    "from sklearn.preprocessing import StandardScaler, LabelEncoder\n",
    "\n",
    "# Separate the features into X and y \n",
    "X = df.drop(columns=['label', 'file_name'])\n",
    "y_label = df['label']\n",
    "\n",
    "# Create encodings for y\n",
    "label_encoder = LabelEncoder()\n",
    "y = label_encoder.fit_transform(y_label)\n",
    "\n",
    "# Split into train and test sets\n",
    "X_train, X_test, y_train, y_test = train_test_split(X, y, test_size=0.3, random_state=33\n",
    ")\n",
    "\n",
    "# Scale the data \n",
    "scaler = StandardScaler()\n",
    "X_train = scaler.fit_transform(X_train)\n",
    "X_test = scaler.transform(X_test)\n",
    "\n",
    "print(\"X_train shape:\", X_train.shape)\n",
    "print(\"X_test shape:\", X_test.shape)\n",
    "print(\"y_train shape:\", y_train.shape)\n",
    "print(\"y_test shape:\", y_test.shape)\n",
    "\n"
   ],
   "id": "1c523c7e7de93369",
   "outputs": [
    {
     "name": "stdout",
     "output_type": "stream",
     "text": [
      "X_train shape: (700, 50)\n",
      "X_test shape: (300, 50)\n",
      "y_train shape: (700,)\n",
      "y_test shape: (300,)\n"
     ]
    }
   ],
   "execution_count": 33
  },
  {
   "metadata": {},
   "cell_type": "markdown",
   "source": "Running a SoftMax regression, which is just a multi-class logistic regression",
   "id": "b86c7c62227c9e4f"
  },
  {
   "metadata": {
    "ExecuteTime": {
     "end_time": "2024-12-02T22:42:24.749680Z",
     "start_time": "2024-12-02T22:42:24.567842Z"
    }
   },
   "cell_type": "code",
   "source": [
    "from sklearn.linear_model import LogisticRegression\n",
    "from sklearn.metrics import accuracy_score, classification_report\n",
    "from sklearn.model_selection import cross_val_score\n",
    "# Train multinomial logistic regression\n",
    "log_model = LogisticRegression(\n",
    "    solver='lbfgs',  \n",
    "    max_iter=10000,\n",
    "    random_state=66\n",
    ")\n",
    "log_model.fit(X_train, y_train)\n",
    "\n",
    "# Predict on the test set\n",
    "y_pred = log_model.predict(X_test)\n",
    "\n",
    "# Evaluate model performance\n",
    "accuracy = accuracy_score(y_test, y_pred)\n",
    "report = classification_report(y_test, y_pred)\n",
    "\n",
    "#Accuracy over the test data\n",
    "print(\"Accuracy:\", accuracy)\n",
    "\n",
    "print(\" Logistic Regression Classification Report:\\n\", report)\n",
    "# conducting a 5 fold cross-validation\n",
    "cv_scores = cross_val_score(log_model, X_train, y_train, cv=5, scoring='accuracy')\n",
    "print(\"Cross-Validation Accuracy:\", cv_scores.mean())"
   ],
   "id": "5e94449f657911dc",
   "outputs": [
    {
     "name": "stdout",
     "output_type": "stream",
     "text": [
      "Accuracy: 0.7366666666666667\n",
      "Classification Report:\n",
      "               precision    recall  f1-score   support\n",
      "\n",
      "           0       0.79      0.82      0.81        38\n",
      "           1       0.88      0.94      0.91        32\n",
      "           2       0.58      0.73      0.64        26\n",
      "           3       0.69      0.61      0.65        33\n",
      "           4       0.73      0.71      0.72        31\n",
      "           5       0.93      0.76      0.84        34\n",
      "           6       0.96      0.80      0.87        30\n",
      "           7       0.75      0.69      0.72        26\n",
      "           8       0.65      0.62      0.64        24\n",
      "           9       0.46      0.62      0.52        26\n",
      "\n",
      "    accuracy                           0.74       300\n",
      "   macro avg       0.74      0.73      0.73       300\n",
      "weighted avg       0.75      0.74      0.74       300\n",
      "\n",
      "Cross-Validation Accuracy: 0.667142857142857\n"
     ]
    }
   ],
   "execution_count": 36
  },
  {
   "metadata": {},
   "cell_type": "markdown",
   "source": "Using KNN now",
   "id": "e5b3167e552cf7a6"
  },
  {
   "metadata": {
    "ExecuteTime": {
     "end_time": "2024-12-02T22:58:57.685301Z",
     "start_time": "2024-12-02T22:58:57.638227Z"
    }
   },
   "cell_type": "code",
   "source": [
    "from sklearn.neighbors import KNeighborsClassifier\n",
    "knn_model = KNeighborsClassifier(n_neighbors=10)\n",
    "knn_model.fit(X_train, y_train)\n",
    "y_pred_knn = knn_model.predict(X_test)\n",
    "\n",
    "knn_accuracy = accuracy_score(y_test, y_pred_knn)\n",
    "knn_report = classification_report(y_test, y_pred_knn)\n",
    "print(\"Accuracy:\", knn_accuracy)\n",
    "print(\"KNN Classification Report:\\n\", knn_report)\n",
    "cv_scores_knn = cross_val_score(knn_model, X_train, y_train, cv=5, scoring='accuracy')\n",
    "print(\" Cross-Validation Accuracy:\", cv_scores_knn.mean())\n"
   ],
   "id": "5d5dba28ecc9fe6b",
   "outputs": [
    {
     "name": "stdout",
     "output_type": "stream",
     "text": [
      "Accuracy: 0.65\n",
      "KNN Classification Report:\n",
      "               precision    recall  f1-score   support\n",
      "\n",
      "           0       0.85      0.45      0.59        38\n",
      "           1       0.90      0.88      0.89        32\n",
      "           2       0.42      0.81      0.55        26\n",
      "           3       0.62      0.64      0.63        33\n",
      "           4       0.64      0.58      0.61        31\n",
      "           5       0.83      0.74      0.78        34\n",
      "           6       0.81      0.73      0.77        30\n",
      "           7       0.62      0.69      0.65        26\n",
      "           8       0.62      0.67      0.64        24\n",
      "           9       0.36      0.35      0.35        26\n",
      "\n",
      "    accuracy                           0.65       300\n",
      "   macro avg       0.67      0.65      0.65       300\n",
      "weighted avg       0.68      0.65      0.65       300\n",
      "\n",
      " Cross-Validation Accuracy: 0.6414285714285715\n"
     ]
    }
   ],
   "execution_count": 48
  },
  {
   "metadata": {},
   "cell_type": "markdown",
   "source": "Training on SVMs",
   "id": "381d0e64424e799d"
  },
  {
   "metadata": {
    "ExecuteTime": {
     "end_time": "2024-12-02T23:03:44.905956Z",
     "start_time": "2024-12-02T23:03:44.784301Z"
    }
   },
   "cell_type": "code",
   "source": [
    "from sklearn.svm import SVC\n",
    "svm_model = SVC(kernel='rbf', C=1, gamma='scale', random_state=77)\n",
    "svm_model.fit(X_train, y_train)\n",
    "svm_predict = svm_model.predict(X_test)\n",
    "print(\"SVM Classifier\")\n",
    "svm_accuracy = accuracy_score(y_test, svm_predict)\n",
    "svm_report = classification_report(y_test, svm_predict)\n",
    "\n",
    "print(\"Accuracy:\", svm_accuracy)\n",
    "print(\"SVM Classification Report:\\n\", svm_report)\n",
    "cv_scores_svm = cross_val_score(svm_model, X_train, y_train, cv=5, scoring='accuracy')\n",
    "print(\"Cross-Validation Accuracy:\", cv_scores_svm.mean())\n"
   ],
   "id": "7f00910a41f1e4f6",
   "outputs": [
    {
     "name": "stdout",
     "output_type": "stream",
     "text": [
      "SVM Classifier\n",
      "Accuracy: 0.74\n",
      "SVM Classification Report:\n",
      "               precision    recall  f1-score   support\n",
      "\n",
      "           0       0.82      0.61      0.70        38\n",
      "           1       0.86      1.00      0.93        32\n",
      "           2       0.48      0.77      0.59        26\n",
      "           3       0.72      0.79      0.75        33\n",
      "           4       0.82      0.74      0.78        31\n",
      "           5       1.00      0.74      0.85        34\n",
      "           6       0.80      0.80      0.80        30\n",
      "           7       0.78      0.69      0.73        26\n",
      "           8       0.72      0.75      0.73        24\n",
      "           9       0.50      0.50      0.50        26\n",
      "\n",
      "    accuracy                           0.74       300\n",
      "   macro avg       0.75      0.74      0.74       300\n",
      "weighted avg       0.76      0.74      0.74       300\n",
      "\n",
      "Cross-Validation Accuracy: 0.7314285714285714\n"
     ]
    }
   ],
   "execution_count": 50
  },
  {
   "metadata": {},
   "cell_type": "markdown",
   "source": "Using Gridesearch to find the optimal SVM trying different C and gamma values",
   "id": "11ed245c11435e92"
  },
  {
   "metadata": {
    "ExecuteTime": {
     "end_time": "2024-12-02T23:08:34.090508Z",
     "start_time": "2024-12-02T23:08:32.716640Z"
    }
   },
   "cell_type": "code",
   "source": [
    "from sklearn.model_selection import GridSearchCV\n",
    "\n",
    "par_grid = {\n",
    "    'C': [0.1, 1, 10],\n",
    "    'gamma': ['scale', 0.01, 0.1, 1]\n",
    "}\n",
    "grid_search = GridSearchCV(SVC(kernel='rbf', random_state=77), par_grid, cv=5, scoring='accuracy')\n",
    "grid_search.fit(X_train, y_train)\n",
    "print(\"Best Parameters:\", grid_search.best_params_)\n",
    "print(\"Best Cross-Validation Accuracy:\", grid_search.best_score_)\n",
    "\n",
    "best_model_svc = grid_search.best_estimator_\n",
    "y_pred = best_model_svc.predict(X_test)\n",
    "print(\"Test Set Accuracy:\", accuracy_score(y_test, y_pred))\n"
   ],
   "id": "21c2b94ead907a3d",
   "outputs": [
    {
     "name": "stdout",
     "output_type": "stream",
     "text": [
      "Best Parameters: {'C': 10, 'gamma': 'scale'}\n",
      "Best Cross-Validation Accuracy: 0.7371428571428571\n",
      "Test Set Accuracy: 0.7666666666666667\n"
     ]
    }
   ],
   "execution_count": 52
  },
  {
   "metadata": {
    "ExecuteTime": {
     "end_time": "2024-12-02T19:09:55.789993Z",
     "start_time": "2024-12-02T19:09:55.310859Z"
    }
   },
   "cell_type": "code",
   "source": [
    "from sklearn.svm import SVC\n",
    "from sklearn.neural_network import MLPClassifier\n",
    "from sklearn.metrics import accuracy_score, classification_report\n",
    "\n",
    "\n",
    "# SVM Classifier\n",
    "svm_model = SVC(kernel='rbf', C=1, gamma='scale', random_state=42)\n",
    "svm_model.fit(X_train, y_train)\n",
    "svm_predictions = svm_model.predict(X_test)\n",
    "\n",
    "# Evaluate SVM\n",
    "print(\"SVM Classifier\")\n",
    "print(f\"Accuracy: {accuracy_score(y_test, svm_predictions):.2f}\")\n",
    "print(classification_report(y_test, svm_predictions))\n",
    "\n",
    "# MLP Classifier\n",
    "mlp_model = MLPClassifier(hidden_layer_sizes=(128, 64), activation='relu', solver='adam',\n",
    "                          max_iter=5000, random_state=77)\n",
    "mlp_model.fit(X_train, y_train)\n",
    "mlp_predictions = mlp_model.predict(X_test)\n",
    "\n",
    "# Evaluate MLP\n",
    "print(\"Multilayer Perceptron Classifier\")\n",
    "print(f\"Accuracy: {accuracy_score(y_test, mlp_predictions):.2f}\")\n",
    "print(classification_report(y_test, mlp_predictions))"
   ],
   "id": "20fdc00786fa11b6",
   "outputs": [
    {
     "name": "stdout",
     "output_type": "stream",
     "text": [
      "SVM Classifier\n",
      "Accuracy: 0.74\n",
      "              precision    recall  f1-score   support\n",
      "\n",
      "           0       0.82      0.61      0.70        38\n",
      "           1       0.86      1.00      0.93        32\n",
      "           2       0.48      0.77      0.59        26\n",
      "           3       0.72      0.79      0.75        33\n",
      "           4       0.82      0.74      0.78        31\n",
      "           5       1.00      0.74      0.85        34\n",
      "           6       0.80      0.80      0.80        30\n",
      "           7       0.78      0.69      0.73        26\n",
      "           8       0.72      0.75      0.73        24\n",
      "           9       0.50      0.50      0.50        26\n",
      "\n",
      "    accuracy                           0.74       300\n",
      "   macro avg       0.75      0.74      0.74       300\n",
      "weighted avg       0.76      0.74      0.74       300\n",
      "\n",
      "Multilayer Perceptron Classifier\n",
      "Accuracy: 0.73\n",
      "              precision    recall  f1-score   support\n",
      "\n",
      "           0       0.74      0.68      0.71        38\n",
      "           1       0.85      0.91      0.88        32\n",
      "           2       0.56      0.77      0.65        26\n",
      "           3       0.78      0.64      0.70        33\n",
      "           4       0.73      0.77      0.75        31\n",
      "           5       0.83      0.74      0.78        34\n",
      "           6       0.85      0.77      0.81        30\n",
      "           7       0.82      0.69      0.75        26\n",
      "           8       0.64      0.67      0.65        24\n",
      "           9       0.52      0.62      0.56        26\n",
      "\n",
      "    accuracy                           0.73       300\n",
      "   macro avg       0.73      0.72      0.72       300\n",
      "weighted avg       0.74      0.73      0.73       300\n",
      "\n"
     ]
    }
   ],
   "execution_count": 11
  },
  {
   "metadata": {},
   "cell_type": "code",
   "outputs": [],
   "execution_count": null,
   "source": "",
   "id": "39e47854d0f9d224"
  },
  {
   "metadata": {
    "ExecuteTime": {
     "end_time": "2024-12-02T19:15:37.598298Z",
     "start_time": "2024-12-02T19:15:37.583331Z"
    }
   },
   "cell_type": "code",
   "source": [
    "\n",
    "\n",
    "# Store accuracy scores\n",
    "model_scores = {\n",
    "    'Logistic Regression': accuracy,\n",
    "    'KNN': knn_accuracy,\n",
    "    'SVM': accuracy_score(y_test, svm_predictions),\n",
    "    'MLP': accuracy_score(y_test, mlp_predictions)\n",
    "}\n",
    "\n",
    "# Convert to DataFrame for easier visualization\n",
    "score_df = pd.DataFrame(list(model_scores.items()), columns=['Model', 'Accuracy'])\n",
    "print(score_df)\n"
   ],
   "id": "2381270d25698841",
   "outputs": [
    {
     "name": "stdout",
     "output_type": "stream",
     "text": [
      "                 Model  Accuracy\n",
      "0  Logistic Regression  0.736667\n",
      "1                  KNN  0.650000\n",
      "2                  SVM  0.740000\n",
      "3                  MLP  0.726667\n"
     ]
    }
   ],
   "execution_count": 15
  },
  {
   "metadata": {
    "ExecuteTime": {
     "end_time": "2024-12-02T23:12:06.585460Z",
     "start_time": "2024-12-02T23:12:03.895273Z"
    }
   },
   "cell_type": "code",
   "source": [
    "from sklearn.svm import SVC\n",
    "from sklearn.model_selection import GridSearchCV\n",
    "\n",
    "# Define parameter grid\n",
    "param_grid = {\n",
    "    'C': [0.1, 1, 10, 100],\n",
    "    'kernel': ['linear', 'rbf'],\n",
    "    'gamma': ['scale', 0.01, 0.1, 1]  \n",
    "}\n",
    "\n",
    "# Perform grid search\n",
    "grid_search_svm = GridSearchCV(SVC(), param_grid, cv=5, scoring='accuracy')\n",
    "grid_search_svm.fit(X_train, y_train)\n",
    "\n",
    "# Best parameters and performance\n",
    "print(\"Best SVM Parameters:\", grid_search_svm.best_params_)\n",
    "print(\"Best SVM Cross-Validation Accuracy:\", grid_search_svm.best_score_)\n",
    "\n",
    "# Evaluate on test set\n",
    "best_svm = grid_search_svm.best_estimator_\n",
    "y_pred_svm_best = best_svm.predict(X_test)\n",
    "best_svm_accuracy = accuracy_score(y_test, y_pred_svm_best)\n",
    "print(\"Test Accuracy for SVM:\", best_svm_accuracy)\n"
   ],
   "id": "d2065089054eed86",
   "outputs": [
    {
     "name": "stdout",
     "output_type": "stream",
     "text": [
      "Best SVM Parameters: {'C': 10, 'gamma': 'scale', 'kernel': 'rbf'}\n",
      "Best SVM Cross-Validation Accuracy: 0.7371428571428571\n",
      "Test Accuracy for SVM: 0.7666666666666667\n"
     ]
    }
   ],
   "execution_count": 53
  },
  {
   "metadata": {},
   "cell_type": "markdown",
   "source": "Creating Several Multi-Layer Perceptron Algorithms and finding the best amongst them",
   "id": "629da5e9f2f112fa"
  },
  {
   "metadata": {
    "ExecuteTime": {
     "end_time": "2024-12-02T19:19:09.849040Z",
     "start_time": "2024-12-02T19:17:54.776276Z"
    }
   },
   "cell_type": "code",
   "source": [
    "from sklearn.neural_network import MLPClassifier\n",
    "from sklearn.model_selection import GridSearchCV\n",
    "\n",
    "# Define parameter grid\n",
    "param_grid = {\n",
    "    'hidden_layer_sizes': [(64,), (128, 64), (128, 64, 32)],\n",
    "    'activation': ['relu', 'tanh'],  \n",
    "    'learning_rate': ['constant', 'adaptive'],  \n",
    "    'alpha': [0.0001, 0.001, 0.01],  #\n",
    "    'solver': ['adam'],  \n",
    "}\n",
    "\n",
    "# Perform grid search\n",
    "grid_search_mlp = GridSearchCV(MLPClassifier(max_iter=2000, random_state=77), param_grid, cv=5, scoring='accuracy')\n",
    "grid_search_mlp.fit(X_train, y_train)\n",
    "\n",
    "# Best parameters and performance\n",
    "print(\"Best MLP Parameters:\", grid_search_mlp.best_params_)\n",
    "print(\"Best MLP Cross-Validation Accuracy:\", grid_search_mlp.best_score_)\n",
    "\n",
    "# Evaluate on test set\n",
    "best_mlp = grid_search_mlp.best_estimator_\n",
    "y_pred_mlp = best_mlp.predict(X_test)\n",
    "print(\"Test Accuracy for MLP:\", accuracy_score(y_test, y_pred_mlp))\n"
   ],
   "id": "fb51b8dac1ac3e25",
   "outputs": [
    {
     "name": "stdout",
     "output_type": "stream",
     "text": [
      "Best MLP Parameters: {'activation': 'relu', 'alpha': 0.01, 'hidden_layer_sizes': (128, 64, 32), 'learning_rate': 'constant', 'solver': 'adam'}\n",
      "Best MLP Cross-Validation Accuracy: 0.7257142857142858\n",
      "Test Accuracy for MLP: 0.71\n"
     ]
    }
   ],
   "execution_count": 21
  },
  {
   "metadata": {},
   "cell_type": "markdown",
   "source": "Applying PCA to the data",
   "id": "7c0a33dd1f0f2179"
  },
  {
   "metadata": {
    "ExecuteTime": {
     "end_time": "2024-12-02T23:28:11.877443Z",
     "start_time": "2024-12-02T23:28:11.716897Z"
    }
   },
   "cell_type": "code",
   "source": [
    "from sklearn.decomposition import PCA\n",
    "import matplotlib.pyplot as plt\n",
    "\n",
    "# Apply PCA after scaling the data\n",
    "pca = PCA(n_components=0.95)  # Retain 95% of variance\n",
    "X_train_pca = pca.fit_transform(X_train)\n",
    "X_test_pca = pca.transform(X_test)\n",
    "\n",
    "# Check the number of components\n",
    "print(\"Number of PCA components:\", pca.n_components_)\n",
    "\n",
    "# Plot explained variance ratio\n",
    "plt.figure(figsize=(12, 8))\n",
    "plt.plot(np.cumsum(pca.explained_variance_ratio_), marker='o')\n",
    "plt.xlabel('Number of Components')\n",
    "plt.ylabel('Cumulative Explained Variance')\n",
    "plt.title('PCA Explained Variance')\n",
    "plt.grid()\n",
    "plt.show()\n"
   ],
   "id": "2462fef7c8cbabb9",
   "outputs": [
    {
     "name": "stdout",
     "output_type": "stream",
     "text": [
      "Number of PCA components: 28\n"
     ]
    },
    {
     "data": {
      "text/plain": [
       "<Figure size 1200x800 with 1 Axes>"
      ],
      "image/png": "[encoded data removed]"
     },
     "metadata": {},
     "output_type": "display_data"
    }
   ],
   "execution_count": 67
  },
  {
   "metadata": {
    "ExecuteTime": {
     "end_time": "2024-12-02T23:31:10.287495Z",
     "start_time": "2024-12-02T23:31:10.181901Z"
    }
   },
   "cell_type": "code",
   "source": [
    "model = LogisticRegression(\n",
    "    solver='lbfgs',\n",
    "    max_iter=1000,\n",
    "    random_state=66\n",
    ")\n",
    "model.fit(X_train_pca, y_train)\n",
    "y_pred_pca_lr = model.predict(X_test_pca)\n",
    "\n",
    "# Evaluate\n",
    "accuracy_pca_lr = accuracy_score(y_test, y_pred_pca_lr)\n",
    "print(\"PCA Logistic Regression Accuracy:\", accuracy_pca_lr)\n",
    "cv_scores_pca = cross_val_score(model, X_train_pca, y_train)\n",
    "pca_scores_mean = cv_scores_pca.mean()\n",
    "print(\"PCA Logistic Regression Accuracy:\", pca_scores_mean)\n"
   ],
   "id": "dec8f3ca963ad561",
   "outputs": [
    {
     "name": "stdout",
     "output_type": "stream",
     "text": [
      "PCA Logistic Regression Accuracy: 0.6733333333333333\n",
      "PCA Logistic Regression Accuracy: 0.6742857142857143\n"
     ]
    }
   ],
   "execution_count": 72
  },
  {
   "metadata": {
    "ExecuteTime": {
     "end_time": "2024-12-02T23:31:13.154903Z",
     "start_time": "2024-12-02T23:31:12.121841Z"
    }
   },
   "cell_type": "code",
   "source": [
    "from sklearn.ensemble import RandomForestClassifier\n",
    "\n",
    "# Train Random Forest\n",
    "rf_model = RandomForestClassifier(n_estimators=100, random_state=55)\n",
    "rf_model.fit(X_train, y_train)\n",
    "\n",
    "# Predict\n",
    "y_pred_rf = rf_model.predict(X_test)\n",
    "\n",
    "# Evaluate\n",
    "accuracy_rf = accuracy_score(y_test, y_pred_rf)\n",
    "print(\"Random Forest Accuracy:\", accuracy_rf)\n",
    "print(\"Classification Report:\\n\", classification_report(y_test, y_pred_rf))\n",
    "cv_score_rf = cross_val_score(rf_model, X_train, y_train, cv=5, scoring='accuracy')\n",
    "print(\"Cross-Validation Accuracy:\", cv_score_rf)\n"
   ],
   "id": "d5248c79da862927",
   "outputs": [
    {
     "name": "stdout",
     "output_type": "stream",
     "text": [
      "Random Forest Accuracy: 0.7133333333333334\n",
      "Classification Report:\n",
      "               precision    recall  f1-score   support\n",
      "\n",
      "           0       0.88      0.61      0.72        38\n",
      "           1       0.89      0.97      0.93        32\n",
      "           2       0.48      0.85      0.61        26\n",
      "           3       0.69      0.67      0.68        33\n",
      "           4       0.74      0.74      0.74        31\n",
      "           5       0.85      0.68      0.75        34\n",
      "           6       0.83      0.80      0.81        30\n",
      "           7       0.90      0.69      0.78        26\n",
      "           8       0.61      0.71      0.65        24\n",
      "           9       0.42      0.42      0.42        26\n",
      "\n",
      "    accuracy                           0.71       300\n",
      "   macro avg       0.73      0.71      0.71       300\n",
      "weighted avg       0.74      0.71      0.72       300\n",
      "\n",
      "Cross-Validation Accuracy: [0.64285714 0.69285714 0.75       0.7        0.67142857]\n"
     ]
    }
   ],
   "execution_count": 73
  },
  {
   "metadata": {
    "ExecuteTime": {
     "end_time": "2024-12-02T23:31:14.300867Z",
     "start_time": "2024-12-02T23:31:14.294581Z"
    }
   },
   "cell_type": "code",
   "source": [
    "model_performances = [\n",
    "    {\"Model\": \"Logistic Regression\", \"Test Accuracy\": accuracy, \"Cross-Validation Accuracy\": cv_scores.mean()},\n",
    "    {\"Model\": \"KNN)\", \"Test Accuracy\": knn_accuracy, \"Cross-Validation Accuracy\": cv_scores_knn.mean()},\n",
    "    {\"Model\": \"SVM (RBF)\", \"Test Accuracy\": svm_accuracy, \"Cross-Validation Accuracy\": cv_scores_svm.mean()},\n",
    "    {\"Model\": \"SVM (Best)\", \"Test Accuracy\": best_svm_accuracy, \"Cross-Validation Accuracy\": grid_search_svm.best_score_},\n",
    "    {\"Model\": \"MLP\", \"Test Accuracy\": accuracy_score(y_test, mlp_predictions), \"Cross-Validation Accuracy\": grid_search_mlp.best_score_},\n",
    "    {\"Model\": \"Random Forest\", \"Test Accuracy\": accuracy_rf, \"Cross-Validation Accuracy\": cv_score_rf.mean()}, \n",
    "    {\"Model\": \"PCA + Logistic Regression\", \"Test Accuracy\": accuracy_pca_lr, \"Cross-Validation Accuracy\":pca_scores_mean },  \n",
    "]\n",
    "performance_df = pd.DataFrame(model_performances)\n",
    "\n",
    "# Display the DataFrame\n",
    "print(performance_df)"
   ],
   "id": "e4ab77e325679378",
   "outputs": [
    {
     "name": "stdout",
     "output_type": "stream",
     "text": [
      "                       Model  Test Accuracy  Cross-Validation Accuracy\n",
      "0        Logistic Regression       0.736667                   0.667143\n",
      "1                       KNN)       0.650000                   0.641429\n",
      "2                  SVM (RBF)       0.740000                   0.731429\n",
      "3                 SVM (Best)       0.766667                   0.737143\n",
      "4                        MLP       0.726667                   0.725714\n",
      "5              Random Forest       0.713333                   0.691429\n",
      "6  PCA + Logistic Regression       0.673333                   0.674286\n"
     ]
    }
   ],
   "execution_count": 74
  }
 ],
 "metadata": {
  "kernelspec": {
   "display_name": "Python 3",
   "language": "python",
   "name": "python3"
  },
  "language_info": {
   "codemirror_mode": {
    "name": "ipython",
    "version": 2
   },
   "file_extension": ".py",
   "mimetype": "text/x-python",
   "name": "python",
   "nbconvert_exporter": "python",
   "pygments_lexer": "ipython2",
   "version": "2.7.6"
  }
 },
 "nbformat": 4,
 "nbformat_minor": 5
}
