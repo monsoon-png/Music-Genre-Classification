{
 "cells": [
  {
   "metadata": {},
   "cell_type": "markdown",
   "source": "This notebook adds even more features such as tonal, harmonic and tempo to the original features and saves them in a file called features_with_all_extracted.csv",
   "id": "47af2733a2b1a080"
  },
  {
   "cell_type": "code",
   "id": "initial_id",
   "metadata": {
    "collapsed": true,
    "ExecuteTime": {
     "end_time": "2024-12-02T23:39:00.851532Z",
     "start_time": "2024-12-02T23:38:57.725354Z"
    }
   },
   "source": [
    "import numpy as np\n",
    "\n",
    "# Load data\n",
    "X = np.load('X_Data.npy', allow_pickle=True)  \n",
    "y = np.load('y_Genres.npy')  \n",
    "file_names = np.load('file_names.npy')\n",
    "\n"
   ],
   "outputs": [],
   "execution_count": 10
  },
  {
   "metadata": {
    "ExecuteTime": {
     "end_time": "2024-12-02T23:39:13.552969Z",
     "start_time": "2024-12-02T23:39:13.545408Z"
    }
   },
   "cell_type": "code",
   "source": [
    "import librosa\n",
    "def extract_features(audio, sr=22050, n_mfcc=13):\n",
    "    mfcc = librosa.feature.mfcc(y=audio, sr=sr, n_mfcc=n_mfcc)\n",
    "    mfcc_mean = np.mean(mfcc, axis=1)\n",
    "    mfcc_std = np.std(mfcc, axis=1)\n",
    "\n",
    "    # Zero-Crossing Rate\n",
    "    zcr = np.mean(librosa.feature.zero_crossing_rate(audio))\n",
    "\n",
    "    # RMS Energy\n",
    "    rms = np.mean(librosa.feature.rms(y=audio))\n",
    "\n",
    "    # Spectral Features\n",
    "    spectral_centroid = np.mean(librosa.feature.spectral_centroid(y=audio, sr=sr))\n",
    "    spectral_bandwidth = np.mean(librosa.feature.spectral_bandwidth(y=audio, sr=sr))\n",
    "    spectral_contrast = np.mean(librosa.feature.spectral_contrast(y=audio, sr=sr), axis=1).flatten()\n",
    "    spectral_rolloff = np.mean(librosa.feature.spectral_rolloff(y=audio, sr=sr))\n",
    "    chroma_stft = np.mean(librosa.feature.chroma_stft(y=audio, sr=sr), axis=1).flatten()\n",
    "\n",
    "    # Temporal Features\n",
    "    tempo, _ = librosa.beat.beat_track(y=audio, sr=sr)\n",
    "\n",
    "    # Harmonic-Percussive Features\n",
    "    harmonic, percussive = librosa.effects.hpss(audio)\n",
    "    harmonic_ratio = np.mean(harmonic) / (np.mean(harmonic) + np.mean(percussive))\n",
    "\n",
    "    # Tonal Features\n",
    "    tonnetz = np.mean(librosa.feature.tonnetz(y=audio, sr=sr), axis=1).flatten()\n",
    "\n",
    "    # Spectral Flatness\n",
    "    spectral_flatness = np.mean(librosa.feature.spectral_flatness(y=audio))\n",
    "\n",
    "    # Combine all features into a consistent 1D array\n",
    "    features = np.concatenate([\n",
    "        mfcc_mean, mfcc_std, [zcr, rms, spectral_centroid, spectral_bandwidth, spectral_rolloff, tempo, harmonic_ratio, spectral_flatness],\n",
    "        spectral_contrast, chroma_stft, tonnetz\n",
    "    ])\n",
    "    return features\n",
    "\n",
    "\n",
    "\n"
   ],
   "id": "eadfcc92be7ffabe",
   "outputs": [],
   "execution_count": 12
  },
  {
   "metadata": {},
   "cell_type": "code",
   "outputs": [],
   "execution_count": null,
   "source": [
    "data_rows = []\n",
    "\n",
    "\n",
    "for i, audio in enumerate(X):\n",
    "    try:\n",
    "        features = extract_features(audio)\n",
    "        data_rows.append(np.append(features, y[i]))\n",
    "    except Exception as e:\n",
    "        print(f\"Error processing sample {i}: {e}\")\n",
    "\n",
    "mfcc_mean_cols = [f\"mfcc_mean_{i}\" for i in range(13)]\n",
    "mfcc_std_cols = [f\"mfcc_std_{i}\" for i in range(13)]\n",
    "spectral_contrast_cols = [f\"spectral_contrast_{i}\" for i in range(7)]  # Adjust for 7 bands\n",
    "chroma_cols = [f\"chroma_{i}\" for i in range(12)]  # 12 pitch classes\n",
    "\n",
    "columns = (\n",
    "    [\"file_name\"] +\n",
    "    [\"label\"] +\n",
    "    mfcc_mean_cols +\n",
    "    mfcc_std_cols +\n",
    "    [\"zcr\", \"rms\", \"spectral_centroid\", \"spectral_bandwidth\", \"spectral_rolloff\"] +\n",
    "    spectral_contrast_cols +\n",
    "    chroma_cols\n",
    ")\n",
    "feature_df = pd.DataFrame(data_rows, columns=columns)\n",
    "\n",
    "feature_df.insert(0, \"file_name\", file_names)\n",
    "feature_df.to_csv(\"features_with_all_extracted.csv\", index=False)\n",
    "print(\"Features saved to features_with_all_extracted.csv\")"
   ],
   "id": "f0993afccf89bc07"
  },
  {
   "metadata": {},
   "cell_type": "markdown",
   "source": "",
   "id": "3277fb540df3d870"
  }
 ],
 "metadata": {
  "kernelspec": {
   "display_name": "Python 3",
   "language": "python",
   "name": "python3"
  },
  "language_info": {
   "codemirror_mode": {
    "name": "ipython",
    "version": 2
   },
   "file_extension": ".py",
   "mimetype": "text/x-python",
   "name": "python",
   "nbconvert_exporter": "python",
   "pygments_lexer": "ipython2",
   "version": "2.7.6"
  }
 },
 "nbformat": 4,
 "nbformat_minor": 5
}
